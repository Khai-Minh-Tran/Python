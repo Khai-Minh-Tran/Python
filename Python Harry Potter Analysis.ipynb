{
  "nbformat": 4,
  "nbformat_minor": 0,
  "metadata": {
    "colab": {
      "provenance": [],
      "authorship_tag": "ABX9TyNtN8f7vsMxkjjGHisQq4iM",
      "include_colab_link": true
    },
    "kernelspec": {
      "name": "python3",
      "display_name": "Python 3"
    },
    "language_info": {
      "name": "python"
    }
  },
  "cells": [
    {
      "cell_type": "markdown",
      "metadata": {
        "id": "view-in-github",
        "colab_type": "text"
      },
      "source": [
        "<a href=\"https://colab.research.google.com/github/Khai-Minh-Tran/Python/blob/main/Python%20Harry%20Potter%20Analysis.ipynb\" target=\"_parent\"><img src=\"https://colab.research.google.com/assets/colab-badge.svg\" alt=\"Open In Colab\"/></a>"
      ]
    },
    {
      "cell_type": "code",
      "execution_count": null,
      "metadata": {
        "colab": {
          "base_uri": "https://localhost:8080/"
        },
        "id": "UJaH0FzPL4BH",
        "outputId": "a528a543-0e68-47da-8db5-0e3e5583c76a"
      },
      "outputs": [
        {
          "output_type": "stream",
          "name": "stderr",
          "text": [
            "[nltk_data] Downloading package punkt to /root/nltk_data...\n",
            "[nltk_data]   Unzipping tokenizers/punkt.zip.\n",
            "[nltk_data] Downloading package stopwords to /root/nltk_data...\n",
            "[nltk_data]   Unzipping corpora/stopwords.zip.\n"
          ]
        },
        {
          "output_type": "execute_result",
          "data": {
            "text/plain": [
              "True"
            ]
          },
          "metadata": {},
          "execution_count": 1
        }
      ],
      "source": [
        "import nltk\n",
        "nltk.download('punkt')\n",
        "nltk.download('stopwords')"
      ]
    },
    {
      "cell_type": "code",
      "source": [
        "bookHP = open('Harry Potter 1 - Sorcerers Stone.txt', encoding = \"ISO-8859-1\")\n",
        "raw_harry= bookHP.read()\n",
        "FindWordsText_HPST = nltk.word_tokenize(raw_harry) \n",
        "text_harry1 = nltk.Text(FindWordsText_HPST) "
      ],
      "metadata": {
        "id": "d722ptmQMe7I"
      },
      "execution_count": null,
      "outputs": []
    },
    {
      "cell_type": "code",
      "source": [
        "# 1. Total number of words in HP1.\n",
        "len(text_harry1) "
      ],
      "metadata": {
        "colab": {
          "base_uri": "https://localhost:8080/"
        },
        "id": "4GTv_-WLMzF9",
        "outputId": "744f2a3c-dafb-4d28-94df-81557b868fae"
      },
      "execution_count": null,
      "outputs": [
        {
          "output_type": "execute_result",
          "data": {
            "text/plain": [
              "98779"
            ]
          },
          "metadata": {},
          "execution_count": 14
        }
      ]
    },
    {
      "cell_type": "code",
      "source": [
        "# 2. Total number of unique words in HP1.\n",
        "len(text_harry1.vocab())"
      ],
      "metadata": {
        "colab": {
          "base_uri": "https://localhost:8080/"
        },
        "id": "xMMlIa6RX9yi",
        "outputId": "ec06aa57-c1a3-419c-ef18-df18339d9d8e"
      },
      "execution_count": null,
      "outputs": [
        {
          "output_type": "execute_result",
          "data": {
            "text/plain": [
              "6845"
            ]
          },
          "metadata": {},
          "execution_count": 46
        }
      ]
    },
    {
      "cell_type": "code",
      "source": [
        "# 3. Counts of the word \"Muggles\" in HP1.\n",
        "text_harry1.count('Muggles') "
      ],
      "metadata": {
        "colab": {
          "base_uri": "https://localhost:8080/"
        },
        "id": "IGk2wS08Nkqg",
        "outputId": "f54e0e57-d8d9-4f07-c52a-ae72103986d3"
      },
      "execution_count": null,
      "outputs": [
        {
          "output_type": "execute_result",
          "data": {
            "text/plain": [
              "19"
            ]
          },
          "metadata": {},
          "execution_count": 53
        }
      ]
    },
    {
      "cell_type": "code",
      "source": [
        "# 4. Counts of the word \"Hermione\" in HP1.\n",
        "text_harry1.count('Hermione') "
      ],
      "metadata": {
        "colab": {
          "base_uri": "https://localhost:8080/"
        },
        "id": "ALyZpHrEN-J8",
        "outputId": "621f7f2b-ae51-4db7-e670-40e3a933aa90"
      },
      "execution_count": null,
      "outputs": [
        {
          "output_type": "execute_result",
          "data": {
            "text/plain": [
              "270"
            ]
          },
          "metadata": {},
          "execution_count": 21
        }
      ]
    },
    {
      "cell_type": "code",
      "source": [
        "# 5. Create a dispersion plot to see where the names of 9 main characters are located.\n",
        "text_harry1.dispersion_plot([\"Harry\", \"Ron\", \"Hermione\", \"Malfoy\", \"Hagrid\", \"Dumbledore\", \"McGonagall\", \"Snape\", \"Voldemort\"])"
      ],
      "metadata": {
        "colab": {
          "base_uri": "https://localhost:8080/",
          "height": 295
        },
        "id": "Sl_EzjHjTasB",
        "outputId": "3d0decd2-7416-4857-8641-5ab2e4480887"
      },
      "execution_count": null,
      "outputs": [
        {
          "output_type": "display_data",
          "data": {
            "text/plain": [
              "<Figure size 432x288 with 1 Axes>"
            ],
            "image/png": "[encoded data removed]"
          },
          "metadata": {
            "needs_background": "light"
          }
        }
      ]
    },
    {
      "cell_type": "code",
      "source": [
        "# 6. Top 50 most common words/characters.\n",
        "frequency_dist = nltk.FreqDist(text_harry1)\n",
        "frequency_dist.most_common(50)"
      ],
      "metadata": {
        "colab": {
          "base_uri": "https://localhost:8080/"
        },
        "id": "8bLqDxU5Tiul",
        "outputId": "b010c50c-5fe8-44cc-dc47-88d892fbce50"
      },
      "execution_count": null,
      "outputs": [
        {
          "output_type": "execute_result",
          "data": {
            "text/plain": [
              "[(',', 5658),\n",
              " ('.', 5118),\n",
              " ('the', 3311),\n",
              " (\"''\", 2443),\n",
              " ('``', 2305),\n",
              " ('to', 1845),\n",
              " ('and', 1805),\n",
              " ('a', 1578),\n",
              " ('Harry', 1324),\n",
              " ('was', 1253),\n",
              " ('of', 1242),\n",
              " ('he', 1208),\n",
              " (\"'s\", 998),\n",
              " ('in', 933),\n",
              " ('I', 919),\n",
              " ('it', 897),\n",
              " ('his', 896),\n",
              " ('you', 837),\n",
              " (\"n't\", 826),\n",
              " ('said', 793),\n",
              " ('--', 787),\n",
              " ('?', 754),\n",
              " ('had', 750),\n",
              " ('that', 632),\n",
              " ('on', 618),\n",
              " ('at', 581),\n",
              " ('He', 548),\n",
              " ('they', 506),\n",
              " ('him', 494),\n",
              " ('as', 484),\n",
              " ('!', 474),\n",
              " ('Ron', 429),\n",
              " ('with', 403),\n",
              " ('but', 373),\n",
              " ('Hagrid', 369),\n",
              " ('be', 362),\n",
              " ('out', 359),\n",
              " ('up', 359),\n",
              " (\"'\", 351),\n",
              " ('for', 347),\n",
              " ('all', 346),\n",
              " ('were', 330),\n",
              " ('them', 323),\n",
              " ('have', 307),\n",
              " ('The', 297),\n",
              " ('could', 293),\n",
              " ('It', 286),\n",
              " ('did', 280),\n",
              " ('Hermione', 270),\n",
              " (\"'d\", 267)]"
            ]
          },
          "metadata": {},
          "execution_count": 39
        }
      ]
    },
    {
      "cell_type": "code",
      "source": [
        "# 7. Search for every occurrence of \"castle\" and display the context around it.\n",
        "text_harry1.concordance(\"castle\") "
      ],
      "metadata": {
        "colab": {
          "base_uri": "https://localhost:8080/"
        },
        "id": "Zkp3DjW2ORpa",
        "outputId": "c2ad73ac-0dc6-4712-bb78-cef29d87f8ff"
      },
      "execution_count": null,
      "outputs": [
        {
          "output_type": "stream",
          "name": "stdout",
          "text": [
            "Displaying 23 of 23 matches:\n",
            "ling in the starry sky , was a vast castle with many turrets and towers . `` N\n",
            "as silent , staring up at the great castle overhead . It towered over them as \n",
            "be taking them right underneath the castle , until they reached a kind of unde\n",
            "mp grass right in the shadow of the castle . They walked up a flight of stone \n",
            "fist and knocked three times on the castle door . CHAPTER SEVEN THE SORTING HA\n",
            "t out to the greenhouses behind the castle to study Herbology , with a dumpy l\n",
            "was colder here than up in the main castle , and would have been quite creepy \n",
            "? '' At five to three they left the castle and made their way across the groun\n",
            "As Harry and Ron walked back to the castle for dinner , their pockets weighed \n",
            "ll 's wake as she strode toward the castle . He was going to be expelled , he \n",
            "shing were enough to wake the whole castle . `` RUN ! '' Harry yelled , and th\n",
            "'clock drew nearer , Harry left the castle and set off in the dusk toward the \n",
            "pily as they trudged back up to the castle . `` I would n't be surprised if yo\n",
            "y been at Hogwarts two months . The castle felt more like home than Privet Dri\n",
            "swiftly down the front steps of the castle . Clearly not wanting to be seen , \n",
            "ook off . Gliding silently over the castle he saw Snape enter the forest at a \n",
            "ak . When the bell sounded from the castle at the end of their lesson , the th\n",
            "rry and Hermione walked back to the castle feeling Saturday could n't come qui\n",
            "ged to get the crate back up to the castle , they never knew . Midnight ticked\n",
            " turned and started back toward the castle , his lamp bobbing away in the dark\n",
            "xpelled , then get back off ter the castle an ' pack . Go on '' ' Malfoy did n\n",
            " YOU 90 next to him instead of that castle . '' `` What about you ? '' `` I 'm\n",
            "e words a knight , a bishop , and a castle turned their backs on the white pie\n"
          ]
        }
      ]
    },
    {
      "cell_type": "code",
      "source": [
        "# 8. Find words that appear in a similar range of contexts with \"Harry.\"\n",
        "text_harry1.similar(\"Harry\")"
      ],
      "metadata": {
        "colab": {
          "base_uri": "https://localhost:8080/"
        },
        "id": "cbVZ3Y3BOXAO",
        "outputId": "960d4044-0d6f-41eb-a82f-6bb0bd562ef9"
      },
      "execution_count": null,
      "outputs": [
        {
          "output_type": "stream",
          "name": "stdout",
          "text": [
            "he ron it they hermione hagrid his malfoy you snape him she and them\n",
            "that dudley neville the dumbledore there\n"
          ]
        }
      ]
    },
    {
      "cell_type": "code",
      "source": [
        "# 9. Show sequences of words, with the size of 2, that occur together most often.\n",
        "text_harry1.collocation_list()"
      ],
      "metadata": {
        "colab": {
          "base_uri": "https://localhost:8080/"
        },
        "id": "4zOrWzPZRjrw",
        "outputId": "b81b836f-f57b-4a4b-ce94-25d4fb1166a8"
      },
      "execution_count": null,
      "outputs": [
        {
          "output_type": "execute_result",
          "data": {
            "text/plain": [
              "[('Uncle', 'Vernon'),\n",
              " ('Professor', 'McGonagall'),\n",
              " ('Aunt', 'Petunia'),\n",
              " ('could', \"n't\"),\n",
              " ('said', 'Ron'),\n",
              " (\"'ve\", 'got'),\n",
              " ('said', 'Harry'),\n",
              " ('said', 'Hagrid'),\n",
              " ('Mr.', 'Dursley'),\n",
              " ('Privet', 'Drive'),\n",
              " ('common', 'room'),\n",
              " ('would', \"n't\"),\n",
              " ('Nimbus', 'Two'),\n",
              " ('Great', 'Hall'),\n",
              " (\"n't\", 'know'),\n",
              " ('Two', 'Thousand'),\n",
              " ('Mrs.', 'Dursley'),\n",
              " ('Mr.', 'Ollivander'),\n",
              " ('invisibility', 'cloak'),\n",
              " ('Madam', 'Pomfrey')]"
            ]
          },
          "metadata": {},
          "execution_count": 42
        }
      ]
    }
  ]
}